{
  "nbformat": 4,
  "nbformat_minor": 0,
  "metadata": {
    "colab": {
      "provenance": [],
      "authorship_tag": "ABX9TyPd/IAe1pGO7vsvjvcyjxqR",
      "include_colab_link": true
    },
    "kernelspec": {
      "name": "python3",
      "display_name": "Python 3"
    },
    "language_info": {
      "name": "python"
    }
  },
  "cells": [
    {
      "cell_type": "markdown",
      "metadata": {
        "id": "view-in-github",
        "colab_type": "text"
      },
      "source": [
        "<a href=\"https://colab.research.google.com/github/germfsip/2221-Programaci-n-Orientada-a-Objetos/blob/main/DibujarCubos.ipynb\" target=\"_parent\"><img src=\"https://colab.research.google.com/assets/colab-badge.svg\" alt=\"Open In Colab\"/></a>"
      ]
    },
    {
      "cell_type": "code",
      "execution_count": 1,
      "metadata": {
        "colab": {
          "base_uri": "https://localhost:8080/",
          "height": 137
        },
        "id": "BorYHcWXoa0T",
        "outputId": "cb601c8c-6eb5-449d-9741-66a0405d2efa"
      },
      "outputs": [
        {
          "output_type": "display_data",
          "data": {
            "text/plain": [
              "<Figure size 500x100 with 1 Axes>"
            ],
            "image/png": "[encoded data removed]"
          },
          "metadata": {}
        }
      ],
      "source": [
        "# Adapted and modified based on the code in the book written by Jake VanderPlas (see https://jakevdp.github.io/PythonDataScienceHandbook/06.00-figure-code.html#Broadcasting)\n",
        "# Originally from astroML: see http://www.astroml.org/book_figures/appendix/fig_broadcast_visual.html\n",
        "\n",
        "import numpy as np\n",
        "from matplotlib import pyplot as plt\n",
        "\n",
        "\n",
        "def draw_cube(ax, xy, size, depth=0.4,\n",
        "              edges=None, label=None, label_kwargs=None, **kwargs):\n",
        "    \"\"\"draw and label a cube.  edges is a list of numbers between\n",
        "    1 and 12, specifying which of the 12 cube edges to draw\"\"\"\n",
        "    if edges is None:\n",
        "        edges = range(1, 13)\n",
        "\n",
        "    x, y = xy\n",
        "\n",
        "    if 1 in edges:\n",
        "        ax.plot([x, x + size],\n",
        "                [y + size, y + size], **kwargs)\n",
        "    if 2 in edges:\n",
        "        ax.plot([x + size, x + size],\n",
        "                [y, y + size], **kwargs)\n",
        "    if 3 in edges:\n",
        "        ax.plot([x, x + size],\n",
        "                [y, y], **kwargs)\n",
        "    if 4 in edges:\n",
        "        ax.plot([x, x],\n",
        "                [y, y + size], **kwargs)\n",
        "\n",
        "    if 5 in edges:\n",
        "        ax.plot([x, x + depth],\n",
        "                [y + size, y + depth + size], **kwargs)\n",
        "    if 6 in edges:\n",
        "        ax.plot([x + size, x + size + depth],\n",
        "                [y + size, y + depth + size], **kwargs)\n",
        "    if 7 in edges:\n",
        "        ax.plot([x + size, x + size + depth],\n",
        "                [y, y + depth], **kwargs)\n",
        "    if 8 in edges:\n",
        "        ax.plot([x, x + depth],\n",
        "                [y, y + depth], **kwargs)\n",
        "\n",
        "    if 9 in edges:\n",
        "        ax.plot([x + depth, x + depth + size],\n",
        "                [y + depth + size, y + depth + size], **kwargs)\n",
        "    if 10 in edges:\n",
        "        ax.plot([x + depth + size, x + depth + size],\n",
        "                [y + depth, y + depth + size], **kwargs)\n",
        "    if 11 in edges:\n",
        "        ax.plot([x + depth, x + depth + size],\n",
        "                [y + depth, y + depth], **kwargs)\n",
        "    if 12 in edges:\n",
        "        ax.plot([x + depth, x + depth],\n",
        "                [y + depth, y + depth + size], **kwargs)\n",
        "\n",
        "    if label:\n",
        "        if label_kwargs is None:\n",
        "            label_kwargs = {}\n",
        "        ax.text(x + 0.5 * size, y + 0.5 * size, label,\n",
        "                ha='center', va='center', **label_kwargs)\n",
        "\n",
        "solid = dict(c='black', ls='-', lw=1,\n",
        "             label_kwargs=dict(color='k'))\n",
        "dotted = dict(c='black', ls='-', lw=0.5, alpha=0.5,\n",
        "              label_kwargs=dict(color='gray'))\n",
        "depth = 0.3\n",
        "\n",
        "# Draw a figure and axis with no boundary\n",
        "fig = plt.figure(figsize=(5, 1), facecolor='w')\n",
        "ax = plt.axes([0, 0, 1, 1], xticks=[], yticks=[], frameon=False)\n",
        "\n",
        "# first block\n",
        "draw_cube(ax, (1, 7.5), 1, depth, [1, 2, 3, 4, 5, 6, 9], '1', **solid)\n",
        "draw_cube(ax, (2, 7.5), 1, depth, [1, 2, 3, 6, 9], '2', **solid)\n",
        "draw_cube(ax, (3, 7.5), 1, depth, [1, 2, 3, 6, 7, 9, 10], '3', **solid)\n",
        "\n",
        "draw_cube(ax, (1, 6.5), 1, depth, [2, 3, 4], '4', **solid)\n",
        "draw_cube(ax, (2, 6.5), 1, depth, [2, 3], '5', **solid)\n",
        "draw_cube(ax, (3, 6.5), 1, depth, [2, 3, 7, 10], '6', **solid)\n",
        "\n",
        "draw_cube(ax, (1, 5.5), 1, depth, [2, 3, 4], '7', **solid)\n",
        "draw_cube(ax, (2, 5.5), 1, depth, [2, 3], '8', **solid)\n",
        "draw_cube(ax, (3, 5.5), 1, depth, [2, 3, 7, 10], '9', **solid)\n",
        "\n",
        "# second block\n",
        "draw_cube(ax, (6, 7.5), 1, depth, [1, 2, 3, 4, 5, 6, 9], '3', **solid)\n",
        "draw_cube(ax, (7, 7.5), 1, depth, [1, 2, 3, 6, 9], '6', **solid)\n",
        "draw_cube(ax, (8, 7.5), 1, depth, [1, 2, 3, 6, 7, 9, 10], '9', **solid)\n",
        "\n",
        "draw_cube(ax, (6, 6.5), 1, depth, range(2, 13), '3', **dotted)\n",
        "draw_cube(ax, (7, 6.5), 1, depth, [2, 3, 6, 7, 9, 10, 11], '6', **dotted)\n",
        "draw_cube(ax, (8, 6.5), 1, depth, [2, 3, 6, 7, 9, 10, 11], '9', **dotted)\n",
        "\n",
        "draw_cube(ax, (6, 5.5), 1, depth, [2, 3, 4, 7, 8, 10, 11, 12], '3', **dotted)\n",
        "draw_cube(ax, (7, 5.5), 1, depth, [2, 3, 7, 10, 11], '6', **dotted)\n",
        "draw_cube(ax, (8, 5.5), 1, depth, [2, 3, 7, 10, 11], '9', **dotted)\n",
        "\n",
        "# third block\n",
        "draw_cube(ax, (12, 7.5), 1, depth, [1, 2, 3, 4, 5, 6, 9], '4', **solid)\n",
        "draw_cube(ax, (13, 7.5), 1, depth, [1, 2, 3, 6, 9], '8', **solid)\n",
        "draw_cube(ax, (14, 7.5), 1, depth, [1, 2, 3, 6, 7, 9, 10], '12', **solid)\n",
        "\n",
        "draw_cube(ax, (12, 6.5), 1, depth, [2, 3, 4], '7', **solid)\n",
        "draw_cube(ax, (13, 6.5), 1, depth, [2, 3], '11', **solid)\n",
        "draw_cube(ax, (14, 6.5), 1, depth, [2, 3, 7, 10], '15', **solid)\n",
        "\n",
        "draw_cube(ax, (12, 5.5), 1, depth, [2, 3, 4], '10', **solid)\n",
        "draw_cube(ax, (13, 5.5), 1, depth, [2, 3], '14', **solid)\n",
        "draw_cube(ax, (14, 5.5), 1, depth, [2, 3, 7, 10], '18', **solid)\n",
        "\n",
        "ax.text(5, 7.0, '+', size=12, ha='center', va='center')\n",
        "ax.text(10.5, 7.0, '=', size=12, ha='center', va='center');"
      ]
    }
  ]
}