{
  "nbformat": 4,
  "nbformat_minor": 0,
  "metadata": {
    "colab": {
      "name": "Raiz cuadrada.ipynb",
      "provenance": [],
      "authorship_tag": "ABX9TyOM41Fr1IkyyL2/s+/dtjun",
      "include_colab_link": true
    },
    "kernelspec": {
      "name": "python3",
      "display_name": "Python 3"
    },
    "language_info": {
      "name": "python"
    }
  },
  "cells": [
    {
      "cell_type": "markdown",
      "metadata": {
        "id": "view-in-github",
        "colab_type": "text"
      },
      "source": [
        "<a href=\"https://colab.research.google.com/github/germfsip/2221-Programaci-n-Orientada-a-Objetos/blob/main/Raiz_cuadrada.ipynb\" target=\"_parent\"><img src=\"https://colab.research.google.com/assets/colab-badge.svg\" alt=\"Open In Colab\"/></a>"
      ]
    },
    {
      "cell_type": "markdown",
      "source": [
        "#Raíz cuadrada\n",
        "##Programa que calcula la raíz cuadrada de un número\n",
        "Programación Orientada a Objetos"
      ],
      "metadata": {
        "id": "EZ53Upuwlowk"
      }
    },
    {
      "cell_type": "code",
      "source": [
        "#Importar las librerias\n",
        "#import math \n",
        "from math import sqrt\n",
        "\n",
        "#Solicitar al usuario el ingreso del valor\n",
        "num = float(input(\"Ingresa el valor del numero a calcular la raiz cuadrada\"))\n",
        "print(\"Número ingresado ->\", num) #verificación de número ingresado\n",
        "\n",
        "#Calcular la raiz cuadrada\n",
        "raiz = sqrt(num)\n",
        "\n",
        "#imprimo el resultado\n",
        "print(f\"La raiz cuadrada de -> {num:.2F} es {raiz:.4F}\")\n"
      ],
      "metadata": {
        "colab": {
          "base_uri": "https://localhost:8080/"
        },
        "id": "zMECPF6Nl0Gc",
        "outputId": "44244687-5a53-4811-846a-cb14ddb6910f"
      },
      "execution_count": 10,
      "outputs": [
        {
          "output_type": "stream",
          "name": "stdout",
          "text": [
            "Ingresa el valor del numero a calcular la raiz cuadrada34.2\n",
            "Número ingresado -> 34.2\n",
            "La raiz cuadrada de -> 34.20 es 5.8481\n"
          ]
        }
      ]
    }
  ]
}